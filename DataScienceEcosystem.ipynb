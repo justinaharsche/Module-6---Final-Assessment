{
 "cells": [
  {
   "cell_type": "markdown",
   "id": "dd204672",
   "metadata": {},
   "source": [
    "# Data Science Tools and Ecosystem"
   ]
  },
  {
   "cell_type": "markdown",
   "id": "5e1a15a8",
   "metadata": {},
   "source": [
    "In this notebook, Data Science Tools and Ecosystem are summarized. "
   ]
  },
  {
   "cell_type": "markdown",
   "id": "6c0e1c03",
   "metadata": {},
   "source": [
    "**Objectives**"
   ]
  },
  {
   "cell_type": "markdown",
   "id": "2bd63d1a",
   "metadata": {},
   "source": [
    "- Python\n",
    "- R\n",
    "- Julia \n",
    "- Scala\n",
    "- SQL"
   ]
  },
  {
   "cell_type": "markdown",
   "id": "6c5cbcb9",
   "metadata": {},
   "source": [
    "## Some of the popular languages that data scientists use are: \n",
    "    1.  Python\n",
    "    2.  R\n",
    "    3.  Julia"
   ]
  },
  {
   "cell_type": "markdown",
   "id": "1f2316ee",
   "metadata": {},
   "source": [
    "## Some of the commonly used libraries used by Data Scientists include: \n",
    "    1. TensorFlow\n",
    "    2. Matplotlib\n",
    "    3. SciKit-Learn"
   ]
  },
  {
   "cell_type": "markdown",
   "id": "d3085061",
   "metadata": {},
   "source": [
    "Data Science Tools|\n",
    "|------------------|\n",
    "|Anaconda|\n",
    "|JupyterLite|\n",
    "|GoogleColab|"
   ]
  },
  {
   "cell_type": "markdown",
   "id": "fa2eb7c4",
   "metadata": {},
   "source": [
    "### Below are a few examples of evaluating arithmetic expressions in Python."
   ]
  },
  {
   "cell_type": "markdown",
   "id": "30019920",
   "metadata": {},
   "source": [
    "This is a simple arithmetic expression to multiply then add integers. "
   ]
  },
  {
   "cell_type": "code",
   "execution_count": 12,
   "id": "e295a25b",
   "metadata": {},
   "outputs": [
    {
     "data": {
      "text/plain": [
       "17"
      ]
     },
     "execution_count": 12,
     "metadata": {},
     "output_type": "execute_result"
    }
   ],
   "source": [
    "(3*4)+5"
   ]
  },
  {
   "cell_type": "code",
   "execution_count": null,
   "id": "eab1035d",
   "metadata": {},
   "outputs": [],
   "source": [
    "This will convert 200 minutes to hours by dividing by 60"
   ]
  },
  {
   "cell_type": "code",
   "execution_count": 13,
   "id": "fae006e5",
   "metadata": {},
   "outputs": [
    {
     "data": {
      "text/plain": [
       "3.3333333333333335"
      ]
     },
     "execution_count": 13,
     "metadata": {},
     "output_type": "execute_result"
    }
   ],
   "source": [
    "200/60"
   ]
  },
  {
   "cell_type": "markdown",
   "id": "5168e1f9",
   "metadata": {},
   "source": [
    "## Author\n",
    "Justina"
   ]
  },
  {
   "cell_type": "code",
   "execution_count": null,
   "id": "0ac92baa",
   "metadata": {},
   "outputs": [],
   "source": []
  }
 ],
 "metadata": {
  "kernelspec": {
   "display_name": "Python 3 (ipykernel)",
   "language": "python",
   "name": "python3"
  },
  "language_info": {
   "codemirror_mode": {
    "name": "ipython",
    "version": 3
   },
   "file_extension": ".py",
   "mimetype": "text/x-python",
   "name": "python",
   "nbconvert_exporter": "python",
   "pygments_lexer": "ipython3",
   "version": "3.10.11"
  }
 },
 "nbformat": 4,
 "nbformat_minor": 5
}
